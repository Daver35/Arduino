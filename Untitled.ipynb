{
 "cells": [
  {
   "cell_type": "code",
   "execution_count": 13,
   "metadata": {},
   "outputs": [],
   "source": [
    "from sklearn.linear_model import LinearRegression\n",
    "import pandas as pd\n",
    "import math"
   ]
  },
  {
   "cell_type": "code",
   "execution_count": 14,
   "metadata": {},
   "outputs": [],
   "source": [
    "df = pd.read_csv(\"molinxxga.csv\",header=None)\n",
    "import numpy as np\n",
    "x = np.asarray(df[0])\n",
    "x = np.sqrt(100/x)\n",
    "y = np.asarray(df[1])"
   ]
  },
  {
   "cell_type": "code",
   "execution_count": 15,
   "metadata": {},
   "outputs": [
    {
     "data": {
      "text/plain": [
       "(1.149684109747597, -48.75)"
      ]
     },
     "execution_count": 15,
     "metadata": {},
     "output_type": "execute_result"
    }
   ],
   "source": [
    "xm = x.mean()\n",
    "ym = y.mean()\n",
    "xm,ym"
   ]
  },
  {
   "cell_type": "code",
   "execution_count": 16,
   "metadata": {},
   "outputs": [
    {
     "data": {
      "text/plain": [
       "(0.40143448975191776, 220.88750000000002)"
      ]
     },
     "execution_count": 16,
     "metadata": {},
     "output_type": "execute_result"
    }
   ],
   "source": [
    "sx2 = (x-xm)**2/len(x)\n",
    "sy2 = (y-ym)**2/len(y)\n",
    "sx2 = sx2.sum()\n",
    "sy2 = sy2.sum()\n",
    "sx2,sy2"
   ]
  },
  {
   "cell_type": "code",
   "execution_count": 17,
   "metadata": {},
   "outputs": [
    {
     "data": {
      "text/plain": [
       "8.281857591674742"
      ]
     },
     "execution_count": 17,
     "metadata": {},
     "output_type": "execute_result"
    }
   ],
   "source": [
    "sxy = (x-xm)*(y-ym)/len(x)\n",
    "sxy = sxy.sum()\n",
    "sxy"
   ]
  },
  {
   "cell_type": "code",
   "execution_count": 18,
   "metadata": {},
   "outputs": [],
   "source": [
    "b = sxy/sx2\n",
    "a = ym - b*xm"
   ]
  },
  {
   "cell_type": "code",
   "execution_count": 19,
   "metadata": {},
   "outputs": [
    {
     "data": {
      "text/plain": [
       "(-72.46873945914601, 20.63065781117323)"
      ]
     },
     "execution_count": 19,
     "metadata": {},
     "output_type": "execute_result"
    }
   ],
   "source": [
    "a,b"
   ]
  },
  {
   "cell_type": "code",
   "execution_count": 25,
   "metadata": {},
   "outputs": [],
   "source": [
    "original = np.asarray(df[0])\n",
    "formulay = line(np.sqrt(100/original))"
   ]
  },
  {
   "cell_type": "code",
   "execution_count": 47,
   "metadata": {},
   "outputs": [],
   "source": [
    "def line(x,a=a,b=b):\n",
    "    return a + b*(x)"
   ]
  },
  {
   "cell_type": "code",
   "execution_count": 27,
   "metadata": {},
   "outputs": [
    {
     "data": {
      "image/png": "[encoded data removed]",
      "text/plain": [
       "<Figure size 432x288 with 1 Axes>"
      ]
     },
     "metadata": {},
     "output_type": "display_data"
    }
   ],
   "source": [
    "import matplotlib.pyplot as plt\n",
    "#%matplot inline\n",
    "plt.plot(x,y)\n",
    "plt.plot(x,line(x))\n",
    "plt.show()"
   ]
  },
  {
   "cell_type": "code",
   "execution_count": 28,
   "metadata": {
    "scrolled": true
   },
   "outputs": [
    {
     "data": {
      "image/png": "[encoded data removed]",
      "text/plain": [
       "<Figure size 432x288 with 1 Axes>"
      ]
     },
     "metadata": {},
     "output_type": "display_data"
    }
   ],
   "source": [
    "plt.plot(original,y)\n",
    "plt.plot(original,formulay)\n",
    "plt.show()"
   ]
  },
  {
   "cell_type": "markdown",
   "metadata": {},
   "source": [
    "# Versió Final"
   ]
  },
  {
   "cell_type": "code",
   "execution_count": 141,
   "metadata": {},
   "outputs": [],
   "source": [
    "def genx(d):\n",
    "    return 20*math.log10(0.125/(4*3.14159))-20*np.log10(d)"
   ]
  },
  {
   "cell_type": "code",
   "execution_count": 142,
   "metadata": {},
   "outputs": [
    {
     "data": {
      "text/plain": [
       "array([ -40.04598968,  -60.04598968,  -80.04598968, -100.04598968])"
      ]
     },
     "execution_count": 142,
     "metadata": {},
     "output_type": "execute_result"
    }
   ],
   "source": [
    "genx(np.array([1,10,100,1000]))"
   ]
  },
  {
   "cell_type": "code",
   "execution_count": 143,
   "metadata": {},
   "outputs": [],
   "source": [
    "x = genx(df[0])\n",
    "y = df[1]"
   ]
  },
  {
   "cell_type": "code",
   "execution_count": 144,
   "metadata": {},
   "outputs": [
    {
     "data": {
      "text/plain": [
       "0    -60.045990\n",
       "1    -66.066590\n",
       "2    -69.588415\n",
       "3    -72.087190\n",
       "4    -74.025390\n",
       "5    -75.609015\n",
       "6    -76.947950\n",
       "7    -78.107789\n",
       "8    -79.130840\n",
       "9    -80.045990\n",
       "10   -81.629615\n",
       "11   -82.968550\n",
       "12   -84.128389\n",
       "13   -85.151440\n",
       "14   -86.066590\n",
       "15   -86.894443\n",
       "16   -87.650215\n",
       "17   -88.345457\n",
       "18   -88.989150\n",
       "19   -89.588415\n",
       "Name: 0, dtype: float64"
      ]
     },
     "execution_count": 144,
     "metadata": {},
     "output_type": "execute_result"
    }
   ],
   "source": [
    "x"
   ]
  },
  {
   "cell_type": "code",
   "execution_count": 145,
   "metadata": {},
   "outputs": [
    {
     "data": {
      "text/plain": [
       "0    -22\n",
       "1    -24\n",
       "2    -27\n",
       "3    -28\n",
       "4    -32\n",
       "5    -34\n",
       "6    -50\n",
       "7    -50\n",
       "8    -52\n",
       "9    -50\n",
       "10   -53\n",
       "11   -60\n",
       "12   -54\n",
       "13   -63\n",
       "14   -66\n",
       "15   -60\n",
       "16   -70\n",
       "17   -61\n",
       "18   -64\n",
       "19   -55\n",
       "Name: 1, dtype: int64"
      ]
     },
     "execution_count": 145,
     "metadata": {},
     "output_type": "execute_result"
    }
   ],
   "source": [
    "y"
   ]
  },
  {
   "cell_type": "code",
   "execution_count": 147,
   "metadata": {},
   "outputs": [
    {
     "data": {
      "text/plain": [
       "(-79.65337103821297, -48.75)"
      ]
     },
     "execution_count": 147,
     "metadata": {},
     "output_type": "execute_result"
    }
   ],
   "source": [
    "xm = x.mean()\n",
    "ym = y.mean()\n",
    "xm,ym"
   ]
  },
  {
   "cell_type": "code",
   "execution_count": 148,
   "metadata": {},
   "outputs": [
    {
     "data": {
      "text/plain": [
       "(63.49217556716281, 220.88750000000002)"
      ]
     },
     "execution_count": 148,
     "metadata": {},
     "output_type": "execute_result"
    }
   ],
   "source": [
    "sx2 = (x-xm)**2/len(x)\n",
    "sy2 = (y-ym)**2/len(y)\n",
    "sx2 = sx2.sum()\n",
    "sy2 = sy2.sum()\n",
    "sx2,sy2"
   ]
  },
  {
   "cell_type": "code",
   "execution_count": 149,
   "metadata": {},
   "outputs": [
    {
     "data": {
      "text/plain": [
       "110.22924677793976"
      ]
     },
     "execution_count": 149,
     "metadata": {},
     "output_type": "execute_result"
    }
   ],
   "source": [
    "sxy = (x-xm)*(y-ym)/len(x)\n",
    "sxy = sxy.sum()\n",
    "sxy"
   ]
  },
  {
   "cell_type": "code",
   "execution_count": 156,
   "metadata": {},
   "outputs": [],
   "source": [
    "b = sxy/sx2\n",
    "b = 1\n",
    "a = ym - b*xm"
   ]
  },
  {
   "cell_type": "code",
   "execution_count": 157,
   "metadata": {},
   "outputs": [
    {
     "data": {
      "text/plain": [
       "(30.903371038212967, 1)"
      ]
     },
     "execution_count": 157,
     "metadata": {},
     "output_type": "execute_result"
    }
   ],
   "source": [
    "a,b"
   ]
  },
  {
   "cell_type": "code",
   "execution_count": 158,
   "metadata": {},
   "outputs": [
    {
     "data": {
      "text/plain": [
       "1231.2240887383093"
      ]
     },
     "execution_count": 158,
     "metadata": {},
     "output_type": "execute_result"
    }
   ],
   "source": [
    "theta = 10**(a/10)\n",
    "theta"
   ]
  },
  {
   "cell_type": "code",
   "execution_count": 159,
   "metadata": {},
   "outputs": [],
   "source": [
    "yhat=line(x,a,b)"
   ]
  },
  {
   "cell_type": "code",
   "execution_count": 160,
   "metadata": {},
   "outputs": [],
   "source": [
    "df[2] = yhat"
   ]
  },
  {
   "cell_type": "code",
   "execution_count": 161,
   "metadata": {},
   "outputs": [
    {
     "data": {
      "text/html": [
       "<div>\n",
       "<style scoped>\n",
       "    .dataframe tbody tr th:only-of-type {\n",
       "        vertical-align: middle;\n",
       "    }\n",
       "\n",
       "    .dataframe tbody tr th {\n",
       "        vertical-align: top;\n",
       "    }\n",
       "\n",
       "    .dataframe thead th {\n",
       "        text-align: right;\n",
       "    }\n",
       "</style>\n",
       "<table border=\"1\" class=\"dataframe\">\n",
       "  <thead>\n",
       "    <tr style=\"text-align: right;\">\n",
       "      <th></th>\n",
       "      <th>0</th>\n",
       "      <th>1</th>\n",
       "      <th>2</th>\n",
       "      <th>3</th>\n",
       "    </tr>\n",
       "  </thead>\n",
       "  <tbody>\n",
       "    <tr>\n",
       "      <th>0</th>\n",
       "      <td>10</td>\n",
       "      <td>-22</td>\n",
       "      <td>-29.142619</td>\n",
       "      <td>3417.049676</td>\n",
       "    </tr>\n",
       "    <tr>\n",
       "      <th>1</th>\n",
       "      <td>20</td>\n",
       "      <td>-24</td>\n",
       "      <td>-35.163219</td>\n",
       "      <td>1231.601967</td>\n",
       "    </tr>\n",
       "    <tr>\n",
       "      <th>2</th>\n",
       "      <td>30</td>\n",
       "      <td>-27</td>\n",
       "      <td>-38.685044</td>\n",
       "      <td>677.994476</td>\n",
       "    </tr>\n",
       "    <tr>\n",
       "      <th>3</th>\n",
       "      <td>40</td>\n",
       "      <td>-28</td>\n",
       "      <td>-41.183818</td>\n",
       "      <td>443.904406</td>\n",
       "    </tr>\n",
       "    <tr>\n",
       "      <th>4</th>\n",
       "      <td>50</td>\n",
       "      <td>-32</td>\n",
       "      <td>-43.122019</td>\n",
       "      <td>319.607577</td>\n",
       "    </tr>\n",
       "    <tr>\n",
       "      <th>5</th>\n",
       "      <td>60</td>\n",
       "      <td>-34</td>\n",
       "      <td>-44.705644</td>\n",
       "      <td>244.368508</td>\n",
       "    </tr>\n",
       "    <tr>\n",
       "      <th>6</th>\n",
       "      <td>70</td>\n",
       "      <td>-50</td>\n",
       "      <td>-46.044579</td>\n",
       "      <td>194.753450</td>\n",
       "    </tr>\n",
       "    <tr>\n",
       "      <th>7</th>\n",
       "      <td>80</td>\n",
       "      <td>-50</td>\n",
       "      <td>-47.204418</td>\n",
       "      <td>159.995783</td>\n",
       "    </tr>\n",
       "    <tr>\n",
       "      <th>8</th>\n",
       "      <td>90</td>\n",
       "      <td>-52</td>\n",
       "      <td>-48.227469</td>\n",
       "      <td>134.524386</td>\n",
       "    </tr>\n",
       "    <tr>\n",
       "      <th>9</th>\n",
       "      <td>100</td>\n",
       "      <td>-50</td>\n",
       "      <td>-49.142619</td>\n",
       "      <td>115.195668</td>\n",
       "    </tr>\n",
       "    <tr>\n",
       "      <th>10</th>\n",
       "      <td>120</td>\n",
       "      <td>-53</td>\n",
       "      <td>-50.726244</td>\n",
       "      <td>88.077366</td>\n",
       "    </tr>\n",
       "    <tr>\n",
       "      <th>11</th>\n",
       "      <td>140</td>\n",
       "      <td>-60</td>\n",
       "      <td>-52.065179</td>\n",
       "      <td>70.194687</td>\n",
       "    </tr>\n",
       "    <tr>\n",
       "      <th>12</th>\n",
       "      <td>160</td>\n",
       "      <td>-54</td>\n",
       "      <td>-53.225018</td>\n",
       "      <td>57.667034</td>\n",
       "    </tr>\n",
       "    <tr>\n",
       "      <th>13</th>\n",
       "      <td>180</td>\n",
       "      <td>-63</td>\n",
       "      <td>-54.248069</td>\n",
       "      <td>48.486418</td>\n",
       "    </tr>\n",
       "    <tr>\n",
       "      <th>14</th>\n",
       "      <td>200</td>\n",
       "      <td>-66</td>\n",
       "      <td>-55.163219</td>\n",
       "      <td>41.519798</td>\n",
       "    </tr>\n",
       "    <tr>\n",
       "      <th>15</th>\n",
       "      <td>220</td>\n",
       "      <td>-60</td>\n",
       "      <td>-55.991072</td>\n",
       "      <td>36.084134</td>\n",
       "    </tr>\n",
       "    <tr>\n",
       "      <th>16</th>\n",
       "      <td>240</td>\n",
       "      <td>-70</td>\n",
       "      <td>-56.746843</td>\n",
       "      <td>31.745590</td>\n",
       "    </tr>\n",
       "    <tr>\n",
       "      <th>17</th>\n",
       "      <td>260</td>\n",
       "      <td>-61</td>\n",
       "      <td>-57.442086</td>\n",
       "      <td>28.216692</td>\n",
       "    </tr>\n",
       "    <tr>\n",
       "      <th>18</th>\n",
       "      <td>280</td>\n",
       "      <td>-64</td>\n",
       "      <td>-58.085779</td>\n",
       "      <td>25.300163</td>\n",
       "    </tr>\n",
       "    <tr>\n",
       "      <th>19</th>\n",
       "      <td>300</td>\n",
       "      <td>-55</td>\n",
       "      <td>-58.685044</td>\n",
       "      <td>22.856568</td>\n",
       "    </tr>\n",
       "  </tbody>\n",
       "</table>\n",
       "</div>"
      ],
      "text/plain": [
       "      0   1          2            3\n",
       "0    10 -22 -29.142619  3417.049676\n",
       "1    20 -24 -35.163219  1231.601967\n",
       "2    30 -27 -38.685044   677.994476\n",
       "3    40 -28 -41.183818   443.904406\n",
       "4    50 -32 -43.122019   319.607577\n",
       "5    60 -34 -44.705644   244.368508\n",
       "6    70 -50 -46.044579   194.753450\n",
       "7    80 -50 -47.204418   159.995783\n",
       "8    90 -52 -48.227469   134.524386\n",
       "9   100 -50 -49.142619   115.195668\n",
       "10  120 -53 -50.726244    88.077366\n",
       "11  140 -60 -52.065179    70.194687\n",
       "12  160 -54 -53.225018    57.667034\n",
       "13  180 -63 -54.248069    48.486418\n",
       "14  200 -66 -55.163219    41.519798\n",
       "15  220 -60 -55.991072    36.084134\n",
       "16  240 -70 -56.746843    31.745590\n",
       "17  260 -61 -57.442086    28.216692\n",
       "18  280 -64 -58.085779    25.300163\n",
       "19  300 -55 -58.685044    22.856568"
      ]
     },
     "execution_count": 161,
     "metadata": {},
     "output_type": "execute_result"
    }
   ],
   "source": [
    "df"
   ]
  },
  {
   "cell_type": "code",
   "execution_count": 123,
   "metadata": {
    "scrolled": true
   },
   "outputs": [
    {
     "data": {
      "image/png": "[encoded data removed]",
      "text/plain": [
       "<Figure size 432x288 with 1 Axes>"
      ]
     },
     "metadata": {},
     "output_type": "display_data"
    }
   ],
   "source": [
    "plt.plot(df[0],y)\n",
    "plt.plot(df[0],yhat)\n",
    "plt.show()"
   ]
  },
  {
   "cell_type": "code",
   "execution_count": 124,
   "metadata": {},
   "outputs": [],
   "source": [
    "def dbtow(x):\n",
    "    return 10**(x/10)"
   ]
  },
  {
   "cell_type": "code",
   "execution_count": 125,
   "metadata": {},
   "outputs": [],
   "source": [
    "df[3] = dbtow(df[2])/(0.001)*(4*3.14159*df[0]/12.5)**2"
   ]
  },
  {
   "cell_type": "code",
   "execution_count": 126,
   "metadata": {},
   "outputs": [
    {
     "data": {
      "text/html": [
       "<div>\n",
       "<style scoped>\n",
       "    .dataframe tbody tr th:only-of-type {\n",
       "        vertical-align: middle;\n",
       "    }\n",
       "\n",
       "    .dataframe tbody tr th {\n",
       "        vertical-align: top;\n",
       "    }\n",
       "\n",
       "    .dataframe thead th {\n",
       "        text-align: right;\n",
       "    }\n",
       "</style>\n",
       "<table border=\"1\" class=\"dataframe\">\n",
       "  <thead>\n",
       "    <tr style=\"text-align: right;\">\n",
       "      <th></th>\n",
       "      <th>0</th>\n",
       "      <th>1</th>\n",
       "      <th>2</th>\n",
       "      <th>3</th>\n",
       "    </tr>\n",
       "  </thead>\n",
       "  <tbody>\n",
       "    <tr>\n",
       "      <th>0</th>\n",
       "      <td>10</td>\n",
       "      <td>-22</td>\n",
       "      <td>-14.709477</td>\n",
       "      <td>3417.049676</td>\n",
       "    </tr>\n",
       "    <tr>\n",
       "      <th>1</th>\n",
       "      <td>20</td>\n",
       "      <td>-24</td>\n",
       "      <td>-25.161886</td>\n",
       "      <td>1231.601967</td>\n",
       "    </tr>\n",
       "    <tr>\n",
       "      <th>2</th>\n",
       "      <td>30</td>\n",
       "      <td>-27</td>\n",
       "      <td>-31.276153</td>\n",
       "      <td>677.994476</td>\n",
       "    </tr>\n",
       "    <tr>\n",
       "      <th>3</th>\n",
       "      <td>40</td>\n",
       "      <td>-28</td>\n",
       "      <td>-35.614295</td>\n",
       "      <td>443.904406</td>\n",
       "    </tr>\n",
       "    <tr>\n",
       "      <th>4</th>\n",
       "      <td>50</td>\n",
       "      <td>-32</td>\n",
       "      <td>-38.979219</td>\n",
       "      <td>319.607577</td>\n",
       "    </tr>\n",
       "    <tr>\n",
       "      <th>5</th>\n",
       "      <td>60</td>\n",
       "      <td>-34</td>\n",
       "      <td>-41.728562</td>\n",
       "      <td>244.368508</td>\n",
       "    </tr>\n",
       "    <tr>\n",
       "      <th>6</th>\n",
       "      <td>70</td>\n",
       "      <td>-50</td>\n",
       "      <td>-44.053099</td>\n",
       "      <td>194.753450</td>\n",
       "    </tr>\n",
       "    <tr>\n",
       "      <th>7</th>\n",
       "      <td>80</td>\n",
       "      <td>-50</td>\n",
       "      <td>-46.066704</td>\n",
       "      <td>159.995783</td>\n",
       "    </tr>\n",
       "    <tr>\n",
       "      <th>8</th>\n",
       "      <td>90</td>\n",
       "      <td>-52</td>\n",
       "      <td>-47.842830</td>\n",
       "      <td>134.524386</td>\n",
       "    </tr>\n",
       "    <tr>\n",
       "      <th>9</th>\n",
       "      <td>100</td>\n",
       "      <td>-50</td>\n",
       "      <td>-49.431628</td>\n",
       "      <td>115.195668</td>\n",
       "    </tr>\n",
       "    <tr>\n",
       "      <th>10</th>\n",
       "      <td>120</td>\n",
       "      <td>-53</td>\n",
       "      <td>-52.180971</td>\n",
       "      <td>88.077366</td>\n",
       "    </tr>\n",
       "    <tr>\n",
       "      <th>11</th>\n",
       "      <td>140</td>\n",
       "      <td>-60</td>\n",
       "      <td>-54.505508</td>\n",
       "      <td>70.194687</td>\n",
       "    </tr>\n",
       "    <tr>\n",
       "      <th>12</th>\n",
       "      <td>160</td>\n",
       "      <td>-54</td>\n",
       "      <td>-56.519113</td>\n",
       "      <td>57.667034</td>\n",
       "    </tr>\n",
       "    <tr>\n",
       "      <th>13</th>\n",
       "      <td>180</td>\n",
       "      <td>-63</td>\n",
       "      <td>-58.295239</td>\n",
       "      <td>48.486418</td>\n",
       "    </tr>\n",
       "    <tr>\n",
       "      <th>14</th>\n",
       "      <td>200</td>\n",
       "      <td>-66</td>\n",
       "      <td>-59.884037</td>\n",
       "      <td>41.519798</td>\n",
       "    </tr>\n",
       "    <tr>\n",
       "      <th>15</th>\n",
       "      <td>220</td>\n",
       "      <td>-60</td>\n",
       "      <td>-61.321280</td>\n",
       "      <td>36.084134</td>\n",
       "    </tr>\n",
       "    <tr>\n",
       "      <th>16</th>\n",
       "      <td>240</td>\n",
       "      <td>-70</td>\n",
       "      <td>-62.633381</td>\n",
       "      <td>31.745590</td>\n",
       "    </tr>\n",
       "    <tr>\n",
       "      <th>17</th>\n",
       "      <td>260</td>\n",
       "      <td>-61</td>\n",
       "      <td>-63.840396</td>\n",
       "      <td>28.216692</td>\n",
       "    </tr>\n",
       "    <tr>\n",
       "      <th>18</th>\n",
       "      <td>280</td>\n",
       "      <td>-64</td>\n",
       "      <td>-64.957917</td>\n",
       "      <td>25.300163</td>\n",
       "    </tr>\n",
       "    <tr>\n",
       "      <th>19</th>\n",
       "      <td>300</td>\n",
       "      <td>-55</td>\n",
       "      <td>-65.998305</td>\n",
       "      <td>22.856568</td>\n",
       "    </tr>\n",
       "  </tbody>\n",
       "</table>\n",
       "</div>"
      ],
      "text/plain": [
       "      0   1          2            3\n",
       "0    10 -22 -14.709477  3417.049676\n",
       "1    20 -24 -25.161886  1231.601967\n",
       "2    30 -27 -31.276153   677.994476\n",
       "3    40 -28 -35.614295   443.904406\n",
       "4    50 -32 -38.979219   319.607577\n",
       "5    60 -34 -41.728562   244.368508\n",
       "6    70 -50 -44.053099   194.753450\n",
       "7    80 -50 -46.066704   159.995783\n",
       "8    90 -52 -47.842830   134.524386\n",
       "9   100 -50 -49.431628   115.195668\n",
       "10  120 -53 -52.180971    88.077366\n",
       "11  140 -60 -54.505508    70.194687\n",
       "12  160 -54 -56.519113    57.667034\n",
       "13  180 -63 -58.295239    48.486418\n",
       "14  200 -66 -59.884037    41.519798\n",
       "15  220 -60 -61.321280    36.084134\n",
       "16  240 -70 -62.633381    31.745590\n",
       "17  260 -61 -63.840396    28.216692\n",
       "18  280 -64 -64.957917    25.300163\n",
       "19  300 -55 -65.998305    22.856568"
      ]
     },
     "execution_count": 126,
     "metadata": {},
     "output_type": "execute_result"
    }
   ],
   "source": [
    "df"
   ]
  },
  {
   "cell_type": "code",
   "execution_count": 96,
   "metadata": {},
   "outputs": [
    {
     "data": {
      "text/plain": [
       "0    -14.549467\n",
       "1    -31.022476\n",
       "2    -40.658569\n",
       "3    -47.495485\n",
       "4    -52.798610\n",
       "5    -57.131578\n",
       "6    -60.795050\n",
       "7    -63.968494\n",
       "8    -66.767670\n",
       "9    -69.271619\n",
       "10   -73.604587\n",
       "11   -77.268059\n",
       "12   -80.441503\n",
       "13   -83.240679\n",
       "14   -85.744628\n",
       "15   -88.009725\n",
       "16   -90.077596\n",
       "17   -91.979853\n",
       "18   -93.741068\n",
       "19   -95.380720\n",
       "dtype: float64"
      ]
     },
     "execution_count": 96,
     "metadata": {},
     "output_type": "execute_result"
    }
   ],
   "source": [
    "df[2] - 20 * math.log10(0.125/4*3.14159) - x"
   ]
  },
  {
   "cell_type": "code",
   "execution_count": 72,
   "metadata": {},
   "outputs": [
    {
     "data": {
      "text/plain": [
       "2.302585092994046"
      ]
     },
     "execution_count": 72,
     "metadata": {},
     "output_type": "execute_result"
    }
   ],
   "source": [
    "math.log(10)"
   ]
  },
  {
   "cell_type": "code",
   "execution_count": null,
   "metadata": {},
   "outputs": [],
   "source": []
  }
 ],
 "metadata": {
  "kernelspec": {
   "display_name": "Python 3",
   "language": "python",
   "name": "python3"
  },
  "language_info": {
   "codemirror_mode": {
    "name": "ipython",
    "version": 3
   },
   "file_extension": ".py",
   "mimetype": "text/x-python",
   "name": "python",
   "nbconvert_exporter": "python",
   "pygments_lexer": "ipython3",
   "version": "3.6.5"
  }
 },
 "nbformat": 4,
 "nbformat_minor": 2
}
